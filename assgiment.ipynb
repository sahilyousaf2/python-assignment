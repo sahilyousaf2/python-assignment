{
  "nbformat": 4,
  "nbformat_minor": 0,
  "metadata": {
    "colab": {
      "provenance": [],
      "authorship_tag": "ABX9TyMPC+BwDRBj+qng3dK6DTpW",
      "include_colab_link": true
    },
    "kernelspec": {
      "name": "python3",
      "display_name": "Python 3"
    },
    "language_info": {
      "name": "python"
    }
  },
  "cells": [
    {
      "cell_type": "markdown",
      "metadata": {
        "id": "view-in-github",
        "colab_type": "text"
      },
      "source": [
        "<a href=\"https://colab.research.google.com/github/sahilyousaf2/python-assignment/blob/main/assgiment.ipynb\" target=\"_parent\"><img src=\"https://colab.research.google.com/assets/colab-badge.svg\" alt=\"Open In Colab\"/></a>"
      ]
    },
    {
      "cell_type": "markdown",
      "source": [
        "# **Assgiment**"
      ],
      "metadata": {
        "id": "JtY_8W2aaX74"
      }
    },
    {
      "cell_type": "code",
      "source": [
        "print(\"Arithmetic Operators\")\n",
        "a = 10\n",
        "b = 5\n",
        "\n",
        "print(\"Addition:\", a + b)      # Output: Addition: 15\n",
        "print(\"Subtraction:\", a - b)    # Output: Subtraction: 5\n",
        "print(\"Multiplication:\", a * b)  # Output: Multiplication: 50\n",
        "print(\"Division:\", a / b)      # Output: Division: 2.0\n",
        "print(\"Modulus:\",a % b)       # Output: Modulus: 0\n",
        "print(\"Exponentiation:\", a ** b)  # Output: Exponentiation: 100\n",
        "print(\"Floor Division:\", a // b) # Output: Floor Division: 2\n",
        "\n",
        "\n",
        "print(\"Comparison Operators\")\n",
        "c = 10\n",
        "d = 5\n",
        "\n",
        "print(\"Is equal to:\", c == d)         # Output: Is equal to: False\n",
        "print(\"Is not equal to:\", c != d)     # Output: Is not equal to: True\n",
        "print(\"Is greater than:\", c > d)       # Output: Is greater than: True\n",
        "print(\"Is less than:\", c < d)        # Output: Is less than: False\n",
        "print(\"Is greater than or equal to:\", c >= d)  # Output: Is greater than or equal to: True\n",
        "print(\"Is less than or equal to:\", c <= d)   # Output: Is less than or equal to: False\n",
        "\n",
        "\n",
        "print(\"Logical Operators\")\n",
        "e = 10\n",
        "\n",
        "print(\"AND:\", (e > 5) and (e < 15))    # Output: AND: True\n",
        "print(\"OR:\", (e < 5) or (e > 8))     # Output: OR: True\n",
        "print(\"NOT:\", not (e > 5))         # Output: NOT: False\n",
        "\n",
        "print(\"Assignment Operators\")\n",
        "f = 10\n",
        "\n",
        "f += 5  # x = x + 5, ab x 15 hai\n",
        "print(\"+=:\", f)  # Output: +=: 15\n",
        "\n",
        "f -= 3  # x = x - 3, ab x 12 hai\n",
        "print(\"-=:\", f)  # Output: -=: 12\n",
        "\n",
        "f *= 2  # x = x * 2, ab x 24 hai\n",
        "print(\"*=:\", f)  # Output: *=: 24\n",
        "\n",
        "f /= 4  # x = x / 4, ab x 6.0 hai\n",
        "print(\"/=:\", f)  # Output: /=: 6.0\n",
        "\n",
        "f %= 5  # x = x % 5, ab x 1.0 hai\n",
        "print(\"%=:\", f)  # Output: %=: 1.0\n",
        "\n",
        "f //= 1  # x = x // 1, ab x 1.0 hai\n",
        "print(\"//=:\", f) # Output: //=: 1.0\n",
        "\n",
        "f **= 2 # x = x ** 2, ab x 1.0 hai\n",
        "print(\"**=:\", f) # Output: **=: 1.0\n",
        "\n",
        "\n",
        "\n",
        "print(\"Identity Operators\")\n",
        "g = 10\n",
        "h = 10\n",
        "j = [1, 2, 3]\n",
        "k = [1, 2, 3]\n",
        "\n",
        "print(g is h)        # Output: True (Same value)\n",
        "print(j is k)        # Output: False (Different objects)\n",
        "print(g is not k)    # Output: True (Different objects)\n",
        "\n",
        "\n",
        "\n",
        "\n",
        "\n",
        "print(\"Membership Operators\")\n",
        "numbers = [1, 2, 3, 4, 5]\n",
        "\n",
        "print(3 in numbers)      # Output: True\n",
        "print(6 not in numbers)  # Output: True\n",
        "\n",
        "\n"
      ],
      "metadata": {
        "colab": {
          "base_uri": "https://localhost:8080/"
        },
        "id": "K76n7_KlahuD",
        "outputId": "62c98e92-93a7-4da7-9b3e-a8aafe4ce68a"
      },
      "execution_count": null,
      "outputs": [
        {
          "output_type": "stream",
          "name": "stdout",
          "text": [
            "Arithmetic Operators\n",
            "Addition: 15\n",
            "Subtraction: 5\n",
            "Multiplication: 50\n",
            "Division: 2.0\n",
            "Modulus: 0\n",
            "Exponentiation: 100000\n",
            "Floor Division: 2\n",
            "Comparison Operators\n",
            "Is equal to: False\n",
            "Is not equal to: True\n",
            "Is greater than: True\n",
            "Is less than: False\n",
            "Is greater than or equal to: True\n",
            "Is less than or equal to: False\n",
            "Logical Operators\n",
            "AND: True\n",
            "OR: True\n",
            "NOT: False\n",
            "Assignment Operators\n",
            "+=: 15\n",
            "-=: 12\n",
            "*=: 24\n",
            "/=: 6.0\n",
            "%=: 1.0\n",
            "//=: 1.0\n",
            "**=: 1.0\n",
            "Identity Operators\n",
            "True\n",
            "False\n",
            "True\n",
            "Membership Operators\n",
            "True\n",
            "True\n"
          ]
        }
      ]
    }
  ]
}